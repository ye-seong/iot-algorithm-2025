{
 "cells": [
  {
   "cell_type": "markdown",
   "metadata": {},
   "source": [
    "### 정렬 Sort\n",
    "\n",
    "<img src=\"https://upload.wikimedia.org/wikipedia/commons/thumb/8/8e/Merge_sort_animation.gif/220px-Merge_sort_animation.gif\" width='400'>\n",
    "\n",
    "- 여러 데이터를 작은 값부터 큰 순으로 또는 큰 값부터 작은 순으로 순서에 맞게 정리하는 것\n",
    "    - 오름차순(Ascending sort)\n",
    "    - 내림차순(Descending sort)\n",
    "\n",
    "<!-- 표만들때 :--(왼쪽정렬) --:(오른쪽정렬) :--:(중앙정렬) -->\n",
    "|종류|평균|최선|최악|\n",
    "|:--|:--:|--:|:--:|\n",
    "|선택정렬|$O(n^2)$|$O(n^2)$|$O(n^2)$|\n",
    "|버블|$O(n^2)$|$O(n^2)$|$O(n^2)$|\n",
    "|합병|$O(n log n)$|$O(n log n)$|$O(n log n)$|\n",
    "|퀵|$O(n log n)$|$O(n log n)$|$O(n^2)$|\n",
    "|힙|$O(n log n)$|$O(n log n)$|$O(n log n)$|\n",
    "|쉘|$O(n^{1.25})$|$O(n^{1.25})$|$O(n^{1.25})$|\n",
    "|쉘|$O(dn)$|$O(dn)$|$O(dn)$|"
   ]
  },
  {
   "cell_type": "code",
   "execution_count": null,
   "metadata": {},
   "outputs": [],
   "source": []
  }
 ],
 "metadata": {
  "language_info": {
   "name": "python"
  }
 },
 "nbformat": 4,
 "nbformat_minor": 2
}
