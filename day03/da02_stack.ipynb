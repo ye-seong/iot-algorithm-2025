{
 "cells": [
  {
   "cell_type": "markdown",
   "metadata": {},
   "source": [
    "### 스택\n",
    "\n",
    "<img src=\"https://upload.wikimedia.org/wikipedia/commons/thumb/2/29/Data_stack.svg/300px-Data_stack.svg.png\" width=\"300\">\n",
    "\n",
    "- 입구와 출구가 동일한 데이터구조\n",
    "- 한쪽은 막혀있기 때문에 맨먼저 들어간 데이터는 제일 마지막에 나옴\n",
    "    - LIFO(Last In First Out)\n",
    "\n",
    "- 동작\n",
    "    - Push : 마지막에 데이터를 추가\n",
    "    - Pop : 맨 마지막에 넣은 데이터를 추출\n",
    "    - Top : 맨 마지막 데이터 위\n",
    "\n",
    "<img src=\"https://upload.wikimedia.org/wikipedia/commons/thumb/e/e4/Lifo_stack.svg/1024px-Lifo_stack.svg.png\" width=\"500\">"
   ]
  },
  {
   "cell_type": "code",
   "execution_count": null,
   "metadata": {},
   "outputs": [],
   "source": [
    "stack = [None,None,None,None,None]\n",
    "top = -1"
   ]
  },
  {
   "cell_type": "code",
   "execution_count": null,
   "metadata": {},
   "outputs": [],
   "source": [
    "stack = [None,None,None,None,None]\n",
    "top = -1\n",
    "\n",
    "top += 1 \n",
    "stack[top] = '커피잔' # Push 1\n",
    "top += 1\n",
    "stack[top] = '녹차잔' # Push 2\n",
    "top += 1\n",
    "stack[top] = '꿀물잔' # Push 3"
   ]
  },
  {
   "cell_type": "markdown",
   "metadata": {},
   "source": [
    "- 스택상태 확인 "
   ]
  },
  {
   "cell_type": "code",
   "execution_count": 2,
   "metadata": {},
   "outputs": [
    {
     "name": "stdout",
     "output_type": "stream",
     "text": [
      "---------- 스택상태 ----------\n",
      "None\n",
      "None\n",
      "꿀물잔\n",
      "녹차잔\n",
      "커피잔\n"
     ]
    }
   ],
   "source": [
    "print('---------- 스택상태 ----------')\n",
    "for i in range(len(stack)-1, -1, -1): # 내림차순으로 반복\n",
    "    print(stack[i])"
   ]
  },
  {
   "cell_type": "markdown",
   "metadata": {},
   "source": [
    "- 현재 스택위치 "
   ]
  },
  {
   "cell_type": "code",
   "execution_count": 3,
   "metadata": {},
   "outputs": [
    {
     "data": {
      "text/plain": [
       "2"
      ]
     },
     "execution_count": 3,
     "metadata": {},
     "output_type": "execute_result"
    }
   ],
   "source": [
    "top"
   ]
  },
  {
   "cell_type": "markdown",
   "metadata": {},
   "source": [
    "- Pop : 데이터 추출 "
   ]
  },
  {
   "cell_type": "code",
   "execution_count": 4,
   "metadata": {},
   "outputs": [
    {
     "name": "stdout",
     "output_type": "stream",
     "text": [
      "pop -> 꿀물잔\n"
     ]
    }
   ],
   "source": [
    "data = stack[top]\n",
    "stack[top] = None\n",
    "top -= 1\n",
    "\n",
    "print(f'pop -> {data}')"
   ]
  },
  {
   "cell_type": "code",
   "execution_count": 5,
   "metadata": {},
   "outputs": [
    {
     "name": "stdout",
     "output_type": "stream",
     "text": [
      "---------- 스택상태 ----------\n",
      "None\n",
      "None\n",
      "None\n",
      "녹차잔\n",
      "커피잔\n"
     ]
    }
   ],
   "source": [
    "print('---------- 스택상태 ----------')\n",
    "for i in range(len(stack)-1, -1, -1): # 내림차순으로 반복\n",
    "    print(stack[i])"
   ]
  },
  {
   "cell_type": "markdown",
   "metadata": {},
   "source": [
    "#### 스택 응용분야\n",
    "- 함수 재귀호출\n",
    "- 브라우저 뒤로 가기\n",
    "- 실행취소(Undo) & 다시 실행(Redo)\n",
    "- 수식계산 - 괄호 검사(문법검사)\n",
    "- 탐색 중 깊이우선탐색(DFS) "
   ]
  }
 ],
 "metadata": {
  "kernelspec": {
   "display_name": "3.11.9",
   "language": "python",
   "name": "python3"
  },
  "language_info": {
   "codemirror_mode": {
    "name": "ipython",
    "version": 3
   },
   "file_extension": ".py",
   "mimetype": "text/x-python",
   "name": "python",
   "nbconvert_exporter": "python",
   "pygments_lexer": "ipython3",
   "version": "3.11.9"
  }
 },
 "nbformat": 4,
 "nbformat_minor": 2
}
