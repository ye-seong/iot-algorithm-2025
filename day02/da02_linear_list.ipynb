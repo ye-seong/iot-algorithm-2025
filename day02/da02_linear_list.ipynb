{
 "cells": [
  {
   "cell_type": "markdown",
   "metadata": {},
   "source": [
    "### 선형 리스트(Linear List)"
   ]
  },
  {
   "cell_type": "code",
   "execution_count": 78,
   "metadata": {},
   "outputs": [],
   "source": [
    "katok = ['다현', '정연', '쯔위', '사나', '지효', '모모']"
   ]
  },
  {
   "cell_type": "code",
   "execution_count": 79,
   "metadata": {},
   "outputs": [
    {
     "name": "stdout",
     "output_type": "stream",
     "text": [
      "1851058909424\n",
      "1851058908560\n",
      "1851058897520\n",
      "1851064913520\n"
     ]
    }
   ],
   "source": [
    "print(id(katok[0]))\n",
    "print(id(katok[1]))\n",
    "print(id(katok[2]))\n",
    "print(id(katok[3]))"
   ]
  },
  {
   "cell_type": "code",
   "execution_count": 80,
   "metadata": {},
   "outputs": [
    {
     "data": {
      "text/plain": [
       "'다현'"
      ]
     },
     "execution_count": 80,
     "metadata": {},
     "output_type": "execute_result"
    }
   ],
   "source": [
    "katok[0]"
   ]
  },
  {
   "cell_type": "code",
   "execution_count": 81,
   "metadata": {},
   "outputs": [
    {
     "data": {
      "text/plain": [
       "'지효'"
      ]
     },
     "execution_count": 81,
     "metadata": {},
     "output_type": "execute_result"
    }
   ],
   "source": [
    "katok[4]"
   ]
  },
  {
   "cell_type": "markdown",
   "metadata": {},
   "source": [
    "#### 배열이라고 가정\n",
    "- 데이터 마지막에 추가하려면\n",
    "    1. 배열에 마지막에 빈공간을 생성\n",
    "    2. 데이터 추가 "
   ]
  },
  {
   "cell_type": "markdown",
   "metadata": {},
   "source": [
    "- 데이터를 중간에 추가하려면\n",
    "    1. 배열의 마지막에 빈공간을 추가\n",
    "    2. 데이터를 추가할 위치까지 이전 데이터를 뒤로 쉬프트\n",
    "    3. 중간에 빈 위치에 새 데이터를 추가\n",
    "- insert() 함수를 안쓰면 이렇게 구현을 해야함!"
   ]
  },
  {
   "cell_type": "code",
   "execution_count": 82,
   "metadata": {},
   "outputs": [
    {
     "data": {
      "text/plain": [
       "['다현', '정연', '쯔위', '사나', '지효', '모모']"
      ]
     },
     "execution_count": 82,
     "metadata": {},
     "output_type": "execute_result"
    }
   ],
   "source": [
    "katok"
   ]
  },
  {
   "cell_type": "code",
   "execution_count": 83,
   "metadata": {},
   "outputs": [
    {
     "data": {
      "text/plain": [
       "['다현', '정연', '쯔위', '사나', '지효', '모모', None]"
      ]
     },
     "execution_count": 83,
     "metadata": {},
     "output_type": "execute_result"
    }
   ],
   "source": [
    "# 맨 마지막에 빈공간 생성\n",
    "katok.append(None)\n",
    "katok"
   ]
  },
  {
   "cell_type": "code",
   "execution_count": 84,
   "metadata": {},
   "outputs": [
    {
     "data": {
      "text/plain": [
       "['다현', '정연', '쯔위', '사나', '지효', None, '모모']"
      ]
     },
     "execution_count": 84,
     "metadata": {},
     "output_type": "execute_result"
    }
   ],
   "source": [
    "# 뒤로 쉬프트(이동)\n",
    "katok[6] = katok[5]\n",
    "katok[5] = None\n",
    "katok"
   ]
  },
  {
   "cell_type": "code",
   "execution_count": 85,
   "metadata": {},
   "outputs": [
    {
     "data": {
      "text/plain": [
       "['다현', '정연', '쯔위', None, '사나', '지효', '모모']"
      ]
     },
     "execution_count": 85,
     "metadata": {},
     "output_type": "execute_result"
    }
   ],
   "source": [
    "# 계속 이동\n",
    "katok[5] = katok[4]\n",
    "katok[4] = None\n",
    "katok[4] = katok[3]\n",
    "katok[3] = None\n",
    "katok"
   ]
  },
  {
   "cell_type": "code",
   "execution_count": 86,
   "metadata": {},
   "outputs": [
    {
     "data": {
      "text/plain": [
       "['다현', '정연', '쯔위', '미나', '사나', '지효', '모모']"
      ]
     },
     "execution_count": 86,
     "metadata": {},
     "output_type": "execute_result"
    }
   ],
   "source": [
    "# 빈자리에 미나 추가\n",
    "katok[3] = '미나'\n",
    "katok"
   ]
  },
  {
   "cell_type": "markdown",
   "metadata": {},
   "source": [
    "- 데이터삭제\n",
    "    1. 위치의 값을 None으로 변경\n",
    "    2. None이 된 빈 위치에 오른쪽 데이터를 이동, 그 자리는 None\n",
    "    3. 배열의 마지막이 None 될때까지 반복\n",
    "    4. del(array[index]) 삭제 "
   ]
  },
  {
   "cell_type": "markdown",
   "metadata": {},
   "source": [
    "#### 선형리스트 일반 구현\n",
    "- da03_linear_list.py로 구현 "
   ]
  },
  {
   "cell_type": "code",
   "execution_count": null,
   "metadata": {},
   "outputs": [],
   "source": []
  }
 ],
 "metadata": {
  "kernelspec": {
   "display_name": "3.11.9",
   "language": "python",
   "name": "python3"
  },
  "language_info": {
   "codemirror_mode": {
    "name": "ipython",
    "version": 3
   },
   "file_extension": ".py",
   "mimetype": "text/x-python",
   "name": "python",
   "nbconvert_exporter": "python",
   "pygments_lexer": "ipython3",
   "version": "3.11.9"
  }
 },
 "nbformat": 4,
 "nbformat_minor": 2
}
